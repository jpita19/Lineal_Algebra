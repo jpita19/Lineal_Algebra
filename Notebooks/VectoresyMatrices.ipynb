{
 "cells": [
  {
   "cell_type": "markdown",
   "id": "4ae3d44f",
   "metadata": {},
   "source": [
    "# Vectores y Matrices "
   ]
  },
  {
   "cell_type": "markdown",
   "id": "79f767ec",
   "metadata": {},
   "source": [
    "## Vectores\n",
    "Un vector es un arreglo de números ordenados que se puede representar de la siguiente forma:\n",
    "$$\\vec{A}=\\begin{bmatrix}a_1\\\\ a_2 \\\\ a_3\\\\ \\vdots\\end{bmatrix}$$\n",
    "\n",
    "Donde cada uno de los $a_i\\in \\mathbb{R}$  y se denominan *componentes* del vector.\n",
    "**¿Que se puede representar como un vector?**"
   ]
  },
  {
   "cell_type": "markdown",
   "id": "845985eb",
   "metadata": {},
   "source": [
    "### Operaciones con vectores\n",
    "\n",
    "Hay 2 operaciones fundamentales **Producto por un escalar** y **Suma**. Las cuales se llevan a cabo de la siguiente forma:\n",
    "* Con $c\\in \\mathbb{R}$ se tiene que $$c*\\vec{A}=\\vec{A}*c=\\begin{bmatrix}c*a_1\\\\ c*a_2 \\\\ c*a_3 \\\\ \\vdots\\end{bmatrix}$$\n",
    "* Dados 2 vectores $\\vec{A},\\vec{B}$, la suma de los vectores se define por:$$\\vec{A}+\\vec{B}=\\vec{B}+\\vec{A}=\\begin{bmatrix}a_1 + b_1 \\\\ a_2 + b_2\\\\ \\vdots\\end{bmatrix}$$\n",
    "\n",
    "#### Propiedades de las operaciones\n",
    "* $c\\in\\mathbb{R}$, $c(\\vec{A}+\\vec{B})=c\\vec{A}+c\\vec{B}$\n",
    "* $c, d \\in\\mathbb{R}$, $(c+d)\\vec{A}=c\\vec{A}+d\\vec{A}$\n",
    "* $(\\vec{A}+\\vec{B})+\\vec{C}=\\vec{A}+(\\vec{B}+\\vec{C})$\n",
    "* $\\vec{0}+\\vec{A}=\\vec{A}+\\vec{0}=\\vec{A}$\n",
    "* $1\\vec{A}=\\vec{A}$\n",
    "* Si $\\vec{A}+\\vec{B}=\\vec{0}$, entonces $\\vec{A}=-\\vec{B}$."
   ]
  },
  {
   "cell_type": "markdown",
   "id": "1abc08ed",
   "metadata": {},
   "source": [
    "### Vectores en Python\n",
    "\n",
    "En python hay 2 librerias para el manejo de vectores Numpy(Numerico) y Sympy (Simbolico). Veamos como se maneja Numpy."
   ]
  },
  {
   "cell_type": "code",
   "execution_count": null,
   "id": "72d72730",
   "metadata": {
    "vscode": {
     "languageId": "plaintext"
    }
   },
   "outputs": [],
   "source": [
    "import numpy as numpy"
   ]
  },
  {
   "cell_type": "markdown",
   "id": "aa25afcd",
   "metadata": {},
   "source": [
    "### Geometria vectorial en 2D y 3D"
   ]
  },
  {
   "cell_type": "markdown",
   "id": "a11bacfc",
   "metadata": {},
   "source": [
    "## Matrices "
   ]
  },
  {
   "cell_type": "markdown",
   "id": "f2cd4073",
   "metadata": {},
   "source": [
    "## "
   ]
  }
 ],
 "metadata": {
  "language_info": {
   "name": "python"
  }
 },
 "nbformat": 4,
 "nbformat_minor": 5
}
