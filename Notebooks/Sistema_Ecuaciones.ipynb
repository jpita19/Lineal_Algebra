{
 "cells": [
  {
   "cell_type": "markdown",
   "id": "f6f1b9a0",
   "metadata": {},
   "source": [
    "# Sistema de Ecuaciones Lineales"
   ]
  },
  {
   "cell_type": "markdown",
   "id": "098d96bf",
   "metadata": {},
   "source": [
    "Un sistema de ecuaciones lineales de 2 ecuaciones con 2 incognitas es \n",
    "$$a_{11} x_1 + a_{12} x_2 = c_1\\\\\n",
    "a_{21} x_1 + a_{22} x_2 = c_2$$\n",
    "\n",
    "Este sistema tiene una solución única dada por:\n",
    "$$\\begin{align}\n",
    "x_{1}&=\\frac{c_{1}-a_{12}x_2}{a_{11}}\\\\\n",
    "x_{1}&=\\frac{c_{2}-a_{22}x_2}{a_{21}}\\\\\n",
    "\\frac{c_{1}-a_{12}x_2}{a_{11}} &= \\frac{c_{2}-a_{22}x_2}{a_{21}}\\\\\n",
    "a_{21}(c_{1}-a_{12}x_2) &= a_{11}(c_{2}-a_{22}x_2)\\\\\n",
    "a_{21}c_{1}-a_{21}a_{12}x_2 &= a_{11}c_{2}-a_{11}a_{22}x_2\\\\\n",
    "a_{21}c_{1}-a_{11}c_{2} &= a_{21}a_{12}x_2-a_{11}a_{22}x_2\\\\\n",
    "x_2 &= \\frac{a_{11}c_{2}-a_{21}c_{1}}{a_{11}a_{22}-a_{21}a_{12}}\\\\\n",
    "x_1 &= \\frac{a_{11}c_{1}-a_{21}c_{2}}{a_{11}a_{22}-a_{21}a_{12}}\\\\\n",
    "\\end{align}$$"
   ]
  },
  {
   "cell_type": "code",
   "execution_count": null,
   "id": "409651a4",
   "metadata": {},
   "outputs": [],
   "source": []
  }
 ],
 "metadata": {
  "kernelspec": {
   "display_name": ".venv",
   "language": "python",
   "name": "python3"
  },
  "language_info": {
   "name": "python",
   "version": "3.12.3"
  }
 },
 "nbformat": 4,
 "nbformat_minor": 5
}
